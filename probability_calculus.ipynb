{
 "cells": [
  {
   "cell_type": "code",
   "execution_count": 1,
   "id": "4b36fecf-8e79-4b1f-9173-e919e5c1d470",
   "metadata": {},
   "outputs": [],
   "source": [
    "import numpy as np"
   ]
  },
  {
   "cell_type": "code",
   "execution_count": 10,
   "id": "9094b425-6a5d-4c27-9ebf-4ae2db7449c2",
   "metadata": {},
   "outputs": [],
   "source": [
    "def MI(pi_list: list) -> float:\n",
    "    the_sum = 0\n",
    "    for pi in pi_list:\n",
    "        the_sum += pi * np.log(pi)\n",
    "    return -the_sum"
   ]
  },
  {
   "cell_type": "code",
   "execution_count": 17,
   "id": "3defbab7-2692-4c93-8aaa-9e5251abe059",
   "metadata": {},
   "outputs": [
    {
     "data": {
      "text/plain": [
       "2.3025850929940455"
      ]
     },
     "execution_count": 17,
     "metadata": {},
     "output_type": "execute_result"
    }
   ],
   "source": [
    "my_probs = [0.1]*10\n",
    "MI(my_probs)"
   ]
  },
  {
   "cell_type": "code",
   "execution_count": 12,
   "id": "6dbbd3a3-257b-446e-a51f-535fb9936396",
   "metadata": {},
   "outputs": [
    {
     "data": {
      "text/plain": [
       "1.6094379124341005"
      ]
     },
     "execution_count": 12,
     "metadata": {},
     "output_type": "execute_result"
    }
   ],
   "source": [
    "my_probs = [0.2]*5\n",
    "MI(my_probs)"
   ]
  },
  {
   "cell_type": "code",
   "execution_count": 13,
   "id": "56ee9777-c7b1-4b5e-9bdc-adcd1c45e736",
   "metadata": {},
   "outputs": [
    {
     "data": {
      "text/plain": [
       "0.6931471805599453"
      ]
     },
     "execution_count": 13,
     "metadata": {},
     "output_type": "execute_result"
    }
   ],
   "source": [
    "my_probs = [0.5]*2\n",
    "MI(my_probs)"
   ]
  },
  {
   "cell_type": "code",
   "execution_count": 18,
   "id": "43e1cc16-435f-422e-b4d1-7f952e371eaa",
   "metadata": {},
   "outputs": [
    {
     "data": {
      "text/plain": [
       "0.5004024235381879"
      ]
     },
     "execution_count": 18,
     "metadata": {},
     "output_type": "execute_result"
    }
   ],
   "source": [
    "my_probs = [0.2, 0.8]\n",
    "MI(my_probs)"
   ]
  },
  {
   "cell_type": "code",
   "execution_count": 14,
   "id": "8a06dff2-a095-4bc3-8b01-b5c654d924e2",
   "metadata": {},
   "outputs": [
    {
     "data": {
      "text/plain": [
       "0.3250829733914482"
      ]
     },
     "execution_count": 14,
     "metadata": {},
     "output_type": "execute_result"
    }
   ],
   "source": [
    "my_probs = [0.1, 0.9]\n",
    "MI(my_probs)"
   ]
  },
  {
   "cell_type": "code",
   "execution_count": null,
   "id": "a1ebd2a8-bced-4723-9f4b-902f572d3bfd",
   "metadata": {},
   "outputs": [],
   "source": []
  }
 ],
 "metadata": {
  "kernelspec": {
   "display_name": "Python 3 (ipykernel)",
   "language": "python",
   "name": "python3"
  },
  "language_info": {
   "codemirror_mode": {
    "name": "ipython",
    "version": 3
   },
   "file_extension": ".py",
   "mimetype": "text/x-python",
   "name": "python",
   "nbconvert_exporter": "python",
   "pygments_lexer": "ipython3",
   "version": "3.8.3"
  }
 },
 "nbformat": 4,
 "nbformat_minor": 5
}
