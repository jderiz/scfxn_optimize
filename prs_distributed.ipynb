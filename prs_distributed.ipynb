{
 "cells": [
  {
   "cell_type": "code",
   "execution_count": null,
   "id": "30325c4a-d6db-4737-ad0b-e0c08925fc6d",
   "metadata": {},
   "outputs": [
    {
     "name": "stderr",
     "output_type": "stream",
     "text": [
      "/home/iwe7/anaconda3/envs/scfxn/lib/python3.8/site-packages/dask_jobqueue/core.py:15: FutureWarning: format_bytes is deprecated and will be removed in a future release. Please use dask.utils.format_bytes instead.\n",
      "  from distributed.scheduler import Scheduler\n",
      "/home/iwe7/anaconda3/envs/scfxn/lib/python3.8/site-packages/dask_jobqueue/core.py:15: FutureWarning: parse_bytes is deprecated and will be removed in a future release. Please use dask.utils.parse_bytes instead.\n",
      "  from distributed.scheduler import Scheduler\n",
      "/home/iwe7/anaconda3/envs/scfxn/lib/python3.8/site-packages/dask_jobqueue/core.py:15: FutureWarning: tmpfile is deprecated and will be removed in a future release. Please use dask.utils.tmpfile instead.\n",
      "  from distributed.scheduler import Scheduler\n",
      "/home/iwe7/anaconda3/envs/scfxn/lib/python3.8/site-packages/dask_jobqueue/htcondor.py:6: FutureWarning: parse_bytes is deprecated and will be removed in a future release. Please use dask.utils.parse_bytes instead.\n",
      "  from distributed.utils import parse_bytes\n"
     ]
    }
   ],
   "source": [
    "import bz2\n",
    "import glob\n",
    "import logging\n",
    "import os\n",
    "import pyrosetta\n",
    "import pyrosetta.distributed.io as io\n",
    "import pyrosetta.distributed.viewer as viewer\n",
    "\n",
    "from pyrosetta.distributed.cluster import PyRosettaCluster\n",
    "\n",
    "logging.basicConfig(level=logging.INFO)\n",
    "\n"
   ]
  },
  {
   "cell_type": "code",
   "execution_count": null,
   "id": "ca238709-48b8-44a1-9d5f-4cb9b376cf77",
   "metadata": {},
   "outputs": [
    {
     "name": "stderr",
     "output_type": "stream",
     "text": [
      "INFO:pyrosetta.rosetta:Found rosetta database at: /home/iwe7/anaconda3/envs/scfxn/lib/python3.8/site-packages/pyrosetta/database; using it....\n",
      "INFO:pyrosetta.rosetta:PyRosetta-4 2022 [Rosetta PyRosetta4.conda.linux.cxx11thread.serialization.CentOS.python38.Release 2022.14+release.d95c9420af12eca758935f7e2b4d05be19e3a5fe 2022-04-07T08:56:27] retrieved from: http://www.pyrosetta.org\n",
      "(C) Copyright Rosetta Commons Member Institutions. Created in JHU by Sergey Lyskov and PyRosetta Team.\n",
      "INFO:rosetta:core.init: Checking for fconfig files in pwd and ./rosetta/flags\n",
      "INFO:rosetta:core.init: Rosetta version: PyRosetta4.conda.linux.cxx11thread.serialization.CentOS.python38.Release r316 2022.14+release.d95c942 d95c9420af12eca758935f7e2b4d05be19e3a5fe http://www.pyrosetta.org 2022-04-07T08:56:27\n",
      "INFO:rosetta:core.init: command: PyRosetta -ex1 -ex2aro -database /home/iwe7/anaconda3/envs/scfxn/lib/python3.8/site-packages/pyrosetta/database\n",
      "INFO:rosetta:basic.random.init_random_generator: 'RNG device' seed mode, using '/dev/urandom', seed=486363486 seed_offset=0 real_seed=486363486 thread_index=0\n",
      "INFO:rosetta:basic.random.init_random_generator: RandomGenerator:init: Normal mode, seed=486363486 RG_type=mt19937\n"
     ]
    },
    {
     "name": "stdout",
     "output_type": "stream",
     "text": [
      "PyRosetta-4 2022 [Rosetta PyRosetta4.conda.linux.cxx11thread.serialization.CentOS.python38.Release 2022.14+release.d95c9420af12eca758935f7e2b4d05be19e3a5fe 2022-04-07T08:56:27] retrieved from: http://www.pyrosetta.org\n",
      "(C) Copyright Rosetta Commons Member Institutions. Created in JHU by Sergey Lyskov and PyRosetta Team.\n"
     ]
    }
   ],
   "source": [
    "cluster = PyRosettaCluster()"
   ]
  }
 ],
 "metadata": {
  "kernelspec": {
   "display_name": "Python 3 (ipykernel)",
   "language": "python",
   "name": "python3"
  },
  "language_info": {
   "codemirror_mode": {
    "name": "ipython",
    "version": 3
   },
   "file_extension": ".py",
   "mimetype": "text/x-python",
   "name": "python",
   "nbconvert_exporter": "python",
   "pygments_lexer": "ipython3",
   "version": "3.8.3"
  }
 },
 "nbformat": 4,
 "nbformat_minor": 5
}
