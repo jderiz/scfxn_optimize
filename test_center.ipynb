{
 "cells": [
  {
   "cell_type": "code",
   "execution_count": 8,
   "id": "0029c4a9-079a-40f4-b5ba-b85ed078ca5e",
   "metadata": {},
   "outputs": [],
   "source": [
    "import pyrosetta as prs\n",
    "import pyrosetta.rosetta.protocols.rosetta_scripts as prs_scripts\n",
    "\n",
    "import pyrosetta.rosetta.utility.options as options"
   ]
  },
  {
   "cell_type": "code",
   "execution_count": 5,
   "id": "0758c049-b0af-4563-b4c0-bdd1e1ddb867",
   "metadata": {},
   "outputs": [
    {
     "name": "stdout",
     "output_type": "stream",
     "text": [
      "PyRosetta-4 2022 [Rosetta PyRosetta4.conda.linux.cxx11thread.serialization.CentOS.python38.Release 2022.14+release.d95c9420af12eca758935f7e2b4d05be19e3a5fe 2022-04-07T08:56:27] retrieved from: http://www.pyrosetta.org\n",
      "(C) Copyright Rosetta Commons Member Institutions. Created in JHU by Sergey Lyskov and PyRosetta Team.\n",
      "core.init: Checking for fconfig files in pwd and ./rosetta/flags\n",
      "core.init: Rosetta version: PyRosetta4.conda.linux.cxx11thread.serialization.CentOS.python38.Release r316 2022.14+release.d95c942 d95c9420af12eca758935f7e2b4d05be19e3a5fe http://www.pyrosetta.org 2022-04-07T08:56:27\n",
      "core.init: command: PyRosetta -ex1 -ex2aro -database /home/iwe7/anaconda3/envs/scfxn/lib/python3.8/site-packages/pyrosetta/database\n",
      "basic.random.init_random_generator: 'RNG device' seed mode, using '/dev/urandom', seed=630891396 seed_offset=0 real_seed=630891396 thread_index=0\n",
      "basic.random.init_random_generator: RandomGenerator:init: Normal mode, seed=630891396 RG_type=mt19937\n"
     ]
    }
   ],
   "source": [
    "prs.init()"
   ]
  },
  {
   "cell_type": "code",
   "execution_count": 27,
   "id": "3990215b-2393-454f-a981-5d8204fba790",
   "metadata": {},
   "outputs": [
    {
     "ename": "TypeError",
     "evalue": "has(): incompatible function arguments. The following argument types are supported:\n    1. (self: pyrosetta.rosetta.utility.options.OptionCollection, key: pyrosetta.rosetta.utility.options.BooleanOptionKey) -> bool\n    2. (self: pyrosetta.rosetta.utility.options.OptionCollection, key: pyrosetta.rosetta.utility.options.IntegerOptionKey) -> bool\n    3. (self: pyrosetta.rosetta.utility.options.OptionCollection, key: pyrosetta.rosetta.utility.options.RealOptionKey) -> bool\n    4. (self: pyrosetta.rosetta.utility.options.OptionCollection, key: pyrosetta.rosetta.utility.options.StringOptionKey) -> bool\n    5. (self: pyrosetta.rosetta.utility.options.OptionCollection, key: pyrosetta.rosetta.utility.options.FileOptionKey) -> bool\n    6. (self: pyrosetta.rosetta.utility.options.OptionCollection, key: pyrosetta.rosetta.utility.options.PathOptionKey) -> bool\n    7. (self: pyrosetta.rosetta.utility.options.OptionCollection, key: pyrosetta.rosetta.utility.options.AnyOptionKey) -> bool\n    8. (self: pyrosetta.rosetta.utility.options.OptionCollection, key: pyrosetta.rosetta.utility.options.BooleanVectorOptionKey) -> bool\n    9. (self: pyrosetta.rosetta.utility.options.OptionCollection, key: pyrosetta.rosetta.utility.options.IntegerVectorOptionKey) -> bool\n    10. (self: pyrosetta.rosetta.utility.options.OptionCollection, key: pyrosetta.rosetta.utility.options.RealVectorOptionKey) -> bool\n    11. (self: pyrosetta.rosetta.utility.options.OptionCollection, key: pyrosetta.rosetta.utility.options.ResidueChainVectorOptionKey) -> bool\n    12. (self: pyrosetta.rosetta.utility.options.OptionCollection, key: pyrosetta.rosetta.utility.options.StringVectorOptionKey) -> bool\n    13. (self: pyrosetta.rosetta.utility.options.OptionCollection, key: pyrosetta.rosetta.utility.options.FileVectorOptionKey) -> bool\n    14. (self: pyrosetta.rosetta.utility.options.OptionCollection, key: pyrosetta.rosetta.utility.options.PathVectorOptionKey) -> bool\n    15. (self: pyrosetta.rosetta.utility.options.OptionCollection, key: pyrosetta.rosetta.utility.options.AnyVectorOptionKey) -> bool\n    16. (self: pyrosetta.rosetta.utility.options.OptionCollection, key: pyrosetta.rosetta.utility.options.OptionKey) -> bool\n\nInvoked with: <pyrosetta.rosetta.utility.options.OptionCollection object at 0x7f69e395ef70>, 'ex'",
     "output_type": "error",
     "traceback": [
      "\u001b[0;31m---------------------------------------------------------------------------\u001b[0m",
      "\u001b[0;31mTypeError\u001b[0m                                 Traceback (most recent call last)",
      "\u001b[0;32m/tmp/ipykernel_2723908/3845456600.py\u001b[0m in \u001b[0;36m<module>\u001b[0;34m\u001b[0m\n\u001b[1;32m      3\u001b[0m \u001b[0mbopt\u001b[0m \u001b[0;34m=\u001b[0m \u001b[0mprs\u001b[0m\u001b[0;34m.\u001b[0m\u001b[0mrosetta\u001b[0m\u001b[0;34m.\u001b[0m\u001b[0mbasic\u001b[0m\u001b[0;34m.\u001b[0m\u001b[0moptions\u001b[0m\u001b[0;34m.\u001b[0m\u001b[0minitialize\u001b[0m\u001b[0;34m(\u001b[0m\u001b[0;34m)\u001b[0m\u001b[0;34m\u001b[0m\u001b[0;34m\u001b[0m\u001b[0m\n\u001b[1;32m      4\u001b[0m \u001b[0mbopt\u001b[0m\u001b[0;34m.\u001b[0m\u001b[0mload_options_from_file\u001b[0m\u001b[0;34m(\u001b[0m\u001b[0;34m\"benchmark/ubiquitin/nmr.options\"\u001b[0m\u001b[0;34m)\u001b[0m\u001b[0;34m\u001b[0m\u001b[0;34m\u001b[0m\u001b[0m\n\u001b[0;32m----> 5\u001b[0;31m \u001b[0mbopt\u001b[0m\u001b[0;34m.\u001b[0m\u001b[0mhas\u001b[0m\u001b[0;34m(\u001b[0m\u001b[0;34m'ex'\u001b[0m\u001b[0;34m)\u001b[0m\u001b[0;34m\u001b[0m\u001b[0;34m\u001b[0m\u001b[0m\n\u001b[0m",
      "\u001b[0;31mTypeError\u001b[0m: has(): incompatible function arguments. The following argument types are supported:\n    1. (self: pyrosetta.rosetta.utility.options.OptionCollection, key: pyrosetta.rosetta.utility.options.BooleanOptionKey) -> bool\n    2. (self: pyrosetta.rosetta.utility.options.OptionCollection, key: pyrosetta.rosetta.utility.options.IntegerOptionKey) -> bool\n    3. (self: pyrosetta.rosetta.utility.options.OptionCollection, key: pyrosetta.rosetta.utility.options.RealOptionKey) -> bool\n    4. (self: pyrosetta.rosetta.utility.options.OptionCollection, key: pyrosetta.rosetta.utility.options.StringOptionKey) -> bool\n    5. (self: pyrosetta.rosetta.utility.options.OptionCollection, key: pyrosetta.rosetta.utility.options.FileOptionKey) -> bool\n    6. (self: pyrosetta.rosetta.utility.options.OptionCollection, key: pyrosetta.rosetta.utility.options.PathOptionKey) -> bool\n    7. (self: pyrosetta.rosetta.utility.options.OptionCollection, key: pyrosetta.rosetta.utility.options.AnyOptionKey) -> bool\n    8. (self: pyrosetta.rosetta.utility.options.OptionCollection, key: pyrosetta.rosetta.utility.options.BooleanVectorOptionKey) -> bool\n    9. (self: pyrosetta.rosetta.utility.options.OptionCollection, key: pyrosetta.rosetta.utility.options.IntegerVectorOptionKey) -> bool\n    10. (self: pyrosetta.rosetta.utility.options.OptionCollection, key: pyrosetta.rosetta.utility.options.RealVectorOptionKey) -> bool\n    11. (self: pyrosetta.rosetta.utility.options.OptionCollection, key: pyrosetta.rosetta.utility.options.ResidueChainVectorOptionKey) -> bool\n    12. (self: pyrosetta.rosetta.utility.options.OptionCollection, key: pyrosetta.rosetta.utility.options.StringVectorOptionKey) -> bool\n    13. (self: pyrosetta.rosetta.utility.options.OptionCollection, key: pyrosetta.rosetta.utility.options.FileVectorOptionKey) -> bool\n    14. (self: pyrosetta.rosetta.utility.options.OptionCollection, key: pyrosetta.rosetta.utility.options.PathVectorOptionKey) -> bool\n    15. (self: pyrosetta.rosetta.utility.options.OptionCollection, key: pyrosetta.rosetta.utility.options.AnyVectorOptionKey) -> bool\n    16. (self: pyrosetta.rosetta.utility.options.OptionCollection, key: pyrosetta.rosetta.utility.options.OptionKey) -> bool\n\nInvoked with: <pyrosetta.rosetta.utility.options.OptionCollection object at 0x7f69e395ef70>, 'ex'"
     ]
    }
   ],
   "source": [
    "collection = options.OptionCollection()\n",
    "collection.add_built_in_options()\n",
    "bopt = prs.rosetta.basic.options.initialize()\n",
    "bopt.load_options_from_file(\"benchmark/ubiquitin/nmr.options\")"
   ]
  },
  {
   "cell_type": "code",
   "execution_count": null,
   "id": "349e5a17-7ca5-4232-8e85-9e5b7366ca96",
   "metadata": {},
   "outputs": [],
   "source": []
  }
 ],
 "metadata": {
  "kernelspec": {
   "display_name": "Python 3 (ipykernel)",
   "language": "python",
   "name": "python3"
  },
  "language_info": {
   "codemirror_mode": {
    "name": "ipython",
    "version": 3
   },
   "file_extension": ".py",
   "mimetype": "text/x-python",
   "name": "python",
   "nbconvert_exporter": "python",
   "pygments_lexer": "ipython3",
   "version": "3.8.3"
  }
 },
 "nbformat": 4,
 "nbformat_minor": 5
}
